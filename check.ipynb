{
 "cells": [
  {
   "cell_type": "markdown",
   "metadata": {},
   "source": [
    "# Case checking"
   ]
  },
  {
   "cell_type": "code",
   "execution_count": 1,
   "metadata": {},
   "outputs": [
    {
     "name": "stdout",
     "output_type": "stream",
     "text": [
      "আরো==আরো, Same:False\n",
      "a:Breaks as ['আ', 'র', 'ে', 'া']\n",
      "b:Breaks as ['আ', 'র', 'ো']\n",
      "আরো==আরো, Same:True\n",
      "n:Breaks as ['আ', 'র', 'ো']\n",
      "b:Breaks as ['আ', 'র', 'ো']\n"
     ]
    }
   ],
   "source": [
    "from bnunicodenormalizer import Normalizer\n",
    "norm=Normalizer()\n",
    "a='আরো'\n",
    "b='আরো'\n",
    "print(f\"{a}=={b}, Same:{a==b}\")\n",
    "print(f\"a:Breaks as {[i for i in a]}\")\n",
    "print(f\"b:Breaks as {[i for i in b]}\")\n",
    "n=norm(a)[\"normalized\"]\n",
    "print(f\"{n}=={b}, Same:{n==b}\")\n",
    "print(f\"n:Breaks as {[i for i in n]}\")\n",
    "print(f\"b:Breaks as {[i for i in b]}\")\n"
   ]
  },
  {
   "cell_type": "markdown",
   "metadata": {},
   "source": [
    "# 'ত'+hosonto \n",
    "```\n",
    "# Example-1:\n",
    "(a)বুত্পত্তি==(b)বুৎপত্তি-->False\n",
    "    (a) breaks as ['ব', 'ু', 'ত', '্', 'প', 'ত', '্', 'ত', 'ি']\n",
    "    (b) breaks as ['ব', 'ু', 'ৎ', 'প', 'ত', '্', 'ত', 'ি']\n",
    "# Example-2:\n",
    "(a)উত্স==(b)উৎস-->False\n",
    "    (a) breaks as ['উ', 'ত', '্', 'স']\n",
    "    (b) breaks as ['উ', 'ৎ', 'স']\n",
    "```"
   ]
  },
  {
   "cell_type": "code",
   "execution_count": 2,
   "metadata": {},
   "outputs": [
    {
     "name": "stdout",
     "output_type": "stream",
     "text": [
      "ত্\n",
      "ত্‍\n",
      "ত্‍==ৎ, Same:False\n",
      "a:Breaks as ['ত', '্', '\\u200d']\n",
      "b:Breaks as ['ৎ']\n",
      "2510\n",
      "---------------------------------\n"
     ]
    },
    {
     "data": {
      "text/plain": [
       "'ত্\\u200d'"
      ]
     },
     "execution_count": 2,
     "metadata": {},
     "output_type": "execute_result"
    }
   ],
   "source": [
    "print('ত'+'্')\n",
    "print('ত'+'্'+\"\\u200d\")\n",
    "a='ত'+'্'+\"\\u200d\"\n",
    "b='ৎ'\n",
    "print(f\"{a}=={b}, Same:{a==b}\")\n",
    "print(f\"a:Breaks as {[i for i in a]}\")\n",
    "print(f\"b:Breaks as {[i for i in b]}\")\n",
    "print(ord(b))\n",
    "# notebook default rendeing\n",
    "print(\"---------------------------------\")\n",
    "'ত'+'্'+'\\u200d'  "
   ]
  },
  {
   "cell_type": "code",
   "execution_count": null,
   "metadata": {},
   "outputs": [],
   "source": []
  }
 ],
 "metadata": {
  "interpreter": {
   "hash": "126373ade96202fc0d209e372d1dbf9a23bda23100911a41154f9dda3225d3ce"
  },
  "kernelspec": {
   "display_name": "Python 3.8.5 ('bangla')",
   "language": "python",
   "name": "python3"
  },
  "language_info": {
   "codemirror_mode": {
    "name": "ipython",
    "version": 3
   },
   "file_extension": ".py",
   "mimetype": "text/x-python",
   "name": "python",
   "nbconvert_exporter": "python",
   "pygments_lexer": "ipython3",
   "version": "3.8.5"
  },
  "orig_nbformat": 4
 },
 "nbformat": 4,
 "nbformat_minor": 2
}
